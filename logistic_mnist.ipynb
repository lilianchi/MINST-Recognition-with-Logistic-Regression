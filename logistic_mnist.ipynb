{
 "cells": [
  {
   "cell_type": "markdown",
   "metadata": {},
   "source": [
    "# Logistic regression: Handwritten Digit Recognition"
   ]
  },
  {
   "cell_type": "markdown",
   "metadata": {},
   "source": [
    "This notebook uses the classic [MNIST handwritten digit](http://yann.lecun.com/exdb/mnist/) dataset, which contains digit 0-9 images of size 28*28. We build a logistic regression model to predict the class of digit."
   ]
  },
  {
   "cell_type": "code",
   "execution_count": 1,
   "metadata": {
    "tags": []
   },
   "outputs": [],
   "source": [
    "import matplotlib.pyplot as plt\n",
    "import numpy as np\n",
    "import pandas as pd\n",
    "import time\n",
    "\n",
    "import tensorflow as tf\n",
    "from tensorflow import keras\n",
    "from tensorflow.keras import layers\n",
    "from tensorflow.keras.datasets import mnist"
   ]
  },
  {
   "cell_type": "markdown",
   "metadata": {},
   "source": [
    "## The MNIST dataset"
   ]
  },
  {
   "cell_type": "markdown",
   "metadata": {},
   "source": [
    "### Get the data\n",
    "MNIST dataset is provided by Keras directly. The following codes show how to load it. "
   ]
  },
  {
   "cell_type": "code",
   "execution_count": 2,
   "metadata": {},
   "outputs": [
    {
     "name": "stdout",
     "output_type": "stream",
     "text": [
      "Help on function load_data in module keras.datasets.mnist:\n",
      "\n",
      "load_data(path='mnist.npz')\n",
      "    Loads the MNIST dataset.\n",
      "    \n",
      "    This is a dataset of 60,000 28x28 grayscale images of the 10 digits,\n",
      "    along with a test set of 10,000 images.\n",
      "    More info can be found at the\n",
      "    [MNIST homepage](http://yann.lecun.com/exdb/mnist/).\n",
      "    \n",
      "    Args:\n",
      "      path: path where to cache the dataset locally\n",
      "        (relative to `~/.keras/datasets`).\n",
      "    \n",
      "    Returns:\n",
      "      Tuple of NumPy arrays: `(x_train, y_train), (x_test, y_test)`.\n",
      "    \n",
      "    **x_train**: uint8 NumPy array of grayscale image data with shapes\n",
      "      `(60000, 28, 28)`, containing the training data. Pixel values range\n",
      "      from 0 to 255.\n",
      "    \n",
      "    **y_train**: uint8 NumPy array of digit labels (integers in range 0-9)\n",
      "      with shape `(60000,)` for the training data.\n",
      "    \n",
      "    **x_test**: uint8 NumPy array of grayscale image data with shapes\n",
      "      (10000, 28, 28), containing the test data. Pixel values range\n",
      "      from 0 to 255.\n",
      "    \n",
      "    **y_test**: uint8 NumPy array of digit labels (integers in range 0-9)\n",
      "      with shape `(10000,)` for the test data.\n",
      "    \n",
      "    Example:\n",
      "    \n",
      "    ```python\n",
      "    (x_train, y_train), (x_test, y_test) = keras.datasets.mnist.load_data()\n",
      "    assert x_train.shape == (60000, 28, 28)\n",
      "    assert x_test.shape == (10000, 28, 28)\n",
      "    assert y_train.shape == (60000,)\n",
      "    assert y_test.shape == (10000,)\n",
      "    ```\n",
      "    \n",
      "    License:\n",
      "      Yann LeCun and Corinna Cortes hold the copyright of MNIST dataset,\n",
      "      which is a derivative work from original NIST datasets.\n",
      "      MNIST dataset is made available under the terms of the\n",
      "      [Creative Commons Attribution-Share Alike 3.0 license.](\n",
      "      https://creativecommons.org/licenses/by-sa/3.0/)\n",
      "\n"
     ]
    }
   ],
   "source": [
    "help(mnist.load_data)"
   ]
  },
  {
   "cell_type": "code",
   "execution_count": 11,
   "metadata": {
    "tags": []
   },
   "outputs": [
    {
     "name": "stdout",
     "output_type": "stream",
     "text": [
      "Training data : (60000, 28, 28)\n",
      "Training target : (60000,)\n",
      "Test data : (10000, 28, 28)\n",
      "Test target : (10000,)\n"
     ]
    }
   ],
   "source": [
    "# the data, shuffled and split between train and test sets \n",
    "(X_train_pre, y_train_pre), (X_test_pre, y_test_pre) = mnist.load_data()\n",
    "\n",
    "print('Training data : {}'.format(X_train_pre.shape))\n",
    "print('Training target : {}'.format(y_train_pre.shape))\n",
    "print('Test data : {}'.format(X_test_pre.shape))\n",
    "print('Test target : {}'.format(y_test_pre.shape))"
   ]
  },
  {
   "cell_type": "markdown",
   "metadata": {},
   "source": [
    "### Visualize data"
   ]
  },
  {
   "cell_type": "code",
   "execution_count": 5,
   "metadata": {},
   "outputs": [
    {
     "data": {
      "image/png": "[encoded data removed]",
      "text/plain": [
       "<Figure size 648x648 with 9 Axes>"
      ]
     },
     "metadata": {},
     "output_type": "display_data"
    }
   ],
   "source": [
    "fig = plt.figure(figsize=(9, 9))\n",
    "col = 3\n",
    "row = 3\n",
    "for i in range(1, col*row +1):\n",
    "    label = y_train_pre[i] #for文字\n",
    "    img = X_train_pre[i,:] #for image\n",
    "    fig.add_subplot(row, col, i)\n",
    "    plt.title('Label is {}'.format(label))\n",
    "    plt.xticks([])\n",
    "    plt.yticks([])\n",
    "    plt.imshow(img, cmap='gray')\n",
    "plt.show()"
   ]
  },
  {
   "cell_type": "markdown",
   "metadata": {},
   "source": [
    "### Reshape and normalize the features"
   ]
  },
  {
   "cell_type": "code",
   "execution_count": 13,
   "metadata": {},
   "outputs": [
    {
     "name": "stdout",
     "output_type": "stream",
     "text": [
      "training data shape: (60000, 784)\n",
      "tesing data shape: (10000, 784)\n",
      "60000 train samples, 10000 test samples\n"
     ]
    }
   ],
   "source": [
    "input_dim = 784 # 28*28\n",
    "X_train = X_train_pre.reshape(X_train_pre.shape[0], input_dim) \n",
    "X_test = X_test_pre.reshape(X_test_pre.shape[0], input_dim) \n",
    "X_train = X_train.astype('float32') \n",
    "X_test = X_test.astype('float32') \n",
    "X_train /= 255. #normalize\n",
    "X_test /= 255. #normalize\n",
    "\n",
    "print('training data shape:', X_train.shape)\n",
    "print('tesing data shape:', X_test.shape)\n",
    "print('{} train samples, {} test samples'.format(X_train.shape[0], X_test.shape[0]))"
   ]
  },
  {
   "cell_type": "markdown",
   "metadata": {},
   "source": [
    "### convert class vectors to binary class matrices\n",
    "convert class label to one-hot coding"
   ]
  },
  {
   "cell_type": "code",
   "execution_count": 14,
   "metadata": {},
   "outputs": [
    {
     "data": {
      "text/plain": [
       "array([[0., 0., 0., 0., 0., 1., 0., 0., 0., 0.],\n",
       "       [1., 0., 0., 0., 0., 0., 0., 0., 0., 0.],\n",
       "       [0., 0., 0., 0., 1., 0., 0., 0., 0., 0.],\n",
       "       [0., 1., 0., 0., 0., 0., 0., 0., 0., 0.],\n",
       "       [0., 0., 0., 0., 0., 0., 0., 0., 0., 1.]], dtype=float32)"
      ]
     },
     "execution_count": 14,
     "metadata": {},
     "output_type": "execute_result"
    }
   ],
   "source": [
    "num_classes = 10 # 0-9\n",
    "y_train = keras.utils.to_categorical(y_train_pre, num_classes)\n",
    "y_test = keras.utils.to_categorical(y_test_pre, num_classes)\n",
    "# the first 5 samples are 5,0,4,1,9\n",
    "y_train[:5,] #one-hot encoding"
   ]
  },
  {
   "cell_type": "markdown",
   "metadata": {},
   "source": [
    "## The model"
   ]
  },
  {
   "cell_type": "markdown",
   "metadata": {},
   "source": [
    "### Build the model"
   ]
  },
  {
   "cell_type": "code",
   "execution_count": 15,
   "metadata": {
    "tags": []
   },
   "outputs": [],
   "source": [
    "#input number is 784\n",
    "#change output number=10(y0, y1,...y9), activation function\n",
    "#change loss function (how the machine learn), metrics(use for evaluation) --> accuracy: 1/ 0\n",
    "def build_model():\n",
    "    model = keras.Sequential([layers.Dense(num_classes, \n",
    "                                           input_dim=input_dim, \n",
    "                                           activation='softmax')])\n",
    "    \n",
    "    optimizer = keras.optimizers.RMSprop(0.001)\n",
    "    model.compile(loss='categorical_crossentropy',\n",
    "                  optimizer=optimizer,\n",
    "                  metrics=['accuracy'])\n",
    "    \n",
    "    return model"
   ]
  },
  {
   "cell_type": "code",
   "execution_count": 16,
   "metadata": {
    "tags": []
   },
   "outputs": [],
   "source": [
    "model = build_model()"
   ]
  },
  {
   "cell_type": "markdown",
   "metadata": {},
   "source": [
    "### Inspect the model\n",
    "\n",
    "Use the `.summary` method to print a simple description of the model"
   ]
  },
  {
   "cell_type": "code",
   "execution_count": 17,
   "metadata": {},
   "outputs": [
    {
     "name": "stdout",
     "output_type": "stream",
     "text": [
      "Model: \"sequential\"\n",
      "_________________________________________________________________\n",
      " Layer (type)                Output Shape              Param #   \n",
      "=================================================================\n",
      " dense (Dense)               (None, 10)                7850      \n",
      "                                                                 \n",
      "=================================================================\n",
      "Total params: 7,850\n",
      "Trainable params: 7,850\n",
      "Non-trainable params: 0\n",
      "_________________________________________________________________\n"
     ]
    }
   ],
   "source": [
    "model.summary()"
   ]
  },
  {
   "cell_type": "markdown",
   "metadata": {},
   "source": [
    "### Train the model"
   ]
  },
  {
   "cell_type": "code",
   "execution_count": 18,
   "metadata": {},
   "outputs": [
    {
     "name": "stdout",
     "output_type": "stream",
     "text": [
      "Epoch 1/10\n",
      "466/469 [============================>.] - ETA: 0s - loss: 0.6065 - accuracy: 0.8498| Epoch    0 | training time   1.42s | train loss   0.61 |\n",
      "469/469 [==============================] - 1s 2ms/step - loss: 0.6054 - accuracy: 0.8500\n",
      "Epoch 2/10\n",
      "459/469 [============================>.] - ETA: 0s - loss: 0.3316 - accuracy: 0.9076| Epoch    1 | training time   2.48s | train loss   0.33 |\n",
      "469/469 [==============================] - 1s 2ms/step - loss: 0.3307 - accuracy: 0.9079\n",
      "Epoch 3/10\n",
      "469/469 [==============================] - ETA: 0s - loss: 0.3018 - accuracy: 0.9155| Epoch    2 | training time   3.56s | train loss   0.30 |\n",
      "469/469 [==============================] - 1s 2ms/step - loss: 0.3018 - accuracy: 0.9155\n",
      "Epoch 4/10\n",
      "454/469 [============================>.] - ETA: 0s - loss: 0.2893 - accuracy: 0.9191| Epoch    3 | training time   4.52s | train loss   0.29 |\n",
      "469/469 [==============================] - 1s 2ms/step - loss: 0.2883 - accuracy: 0.9194\n",
      "Epoch 5/10\n",
      "465/469 [============================>.] - ETA: 0s - loss: 0.2802 - accuracy: 0.9219 ETA: 0s| Epoch    4 | training time   5.45s | train loss   0.28 |\n",
      "469/469 [==============================] - 1s 2ms/step - loss: 0.2803 - accuracy: 0.9218\n",
      "Epoch 6/10\n",
      "439/469 [===========================>..] - ETA: 0s - loss: 0.2736 - accuracy: 0.9239| Epoch    5 | training time   6.09s | train loss   0.27 |\n",
      "469/469 [==============================] - 1s 1ms/step - loss: 0.2747 - accuracy: 0.9237\n",
      "Epoch 7/10\n",
      "464/469 [============================>.] - ETA: 0s - loss: 0.2700 - accuracy: 0.9257| Epoch    6 | training time   7.02s | train loss   0.27 |\n",
      "469/469 [==============================] - 1s 2ms/step - loss: 0.2703 - accuracy: 0.9255\n",
      "Epoch 8/10\n",
      "422/469 [=========================>....] - ETA: 0s - loss: 0.2667 - accuracy: 0.9264| Epoch    7 | training time   7.89s | train loss   0.27 |\n",
      "469/469 [==============================] - 1s 2ms/step - loss: 0.2677 - accuracy: 0.9258\n",
      "Epoch 9/10\n",
      "465/469 [============================>.] - ETA: 0s - loss: 0.2653 - accuracy: 0.9275| Epoch    8 | training time   8.67s | train loss   0.26 |\n",
      "469/469 [==============================] - 1s 2ms/step - loss: 0.2650 - accuracy: 0.9276\n",
      "Epoch 10/10\n",
      "459/469 [============================>.] - ETA: 0s - loss: 0.2628 - accuracy: 0.9284| Epoch    9 | training time   9.61s | train loss   0.26 |\n",
      "469/469 [==============================] - 1s 2ms/step - loss: 0.2629 - accuracy: 0.9286\n"
     ]
    }
   ],
   "source": [
    "# Display training progress by printing a single dot for each completed epoch\n",
    "class PrintLoss(keras.callbacks.Callback):\n",
    "    def on_epoch_begin(self, epoch, logs):\n",
    "        if epoch == 0: self.time = time.monotonic()\n",
    "            \n",
    "    def on_epoch_end(self, epoch, logs):\n",
    "        # calculate training time\n",
    "        t = time.monotonic() - self.time\n",
    "        # if validation set is included, its loss is recorded in logs['val_loss']\n",
    "        print('| Epoch {:4} | training time {:6.2f}s | train loss {:6.2f} |'\n",
    "              .format(epoch, t, logs['loss']))\n",
    "\n",
    "EPOCHS = 10\n",
    "\n",
    "# use validation_split argument to do train-validation split\n",
    "history = model.fit(X_train, y_train,\n",
    "                    batch_size=128, epochs=EPOCHS,\n",
    "                    callbacks=[PrintLoss()])\n",
    "\n",
    "#batch_size default is 32"
   ]
  },
  {
   "cell_type": "code",
   "execution_count": 19,
   "metadata": {},
   "outputs": [
    {
     "data": {
      "image/png": "[encoded data removed]",
      "text/plain": [
       "<Figure size 432x288 with 1 Axes>"
      ]
     },
     "metadata": {
      "needs_background": "light"
     },
     "output_type": "display_data"
    }
   ],
   "source": [
    "def plot_history(history):\n",
    "    hist = pd.DataFrame(history.history)\n",
    "    hist['epoch'] = history.epoch\n",
    "    hist.tail()\n",
    "\n",
    "    plt.figure()\n",
    "    plt.xlabel('Epoch')\n",
    "    plt.ylabel('Accuracy')\n",
    "    plt.plot(hist['epoch'], hist['accuracy'])\n",
    "\n",
    "    plt.show()\n",
    "\n",
    "    #call function\n",
    "plot_history(history)"
   ]
  },
  {
   "cell_type": "markdown",
   "metadata": {},
   "source": [
    "### Make predictions"
   ]
  },
  {
   "cell_type": "markdown",
   "metadata": {},
   "source": [
    "Calculate the classification accuracy for testing set"
   ]
  },
  {
   "cell_type": "code",
   "execution_count": 22,
   "metadata": {},
   "outputs": [
    {
     "name": "stdout",
     "output_type": "stream",
     "text": [
      "Testing set loss: 0.27\n",
      "Testing set accuracy: 92.67%\n"
     ]
    }
   ],
   "source": [
    "loss, acc = model.evaluate(X_test, y_test, verbose=0)\n",
    "\n",
    "print(\"Testing set loss: {:.2f}\".format(loss))\n",
    "print(\"Testing set accuracy: {:.2f}%\".format(acc*100))\n",
    "\n",
    "#the order is loss, accuracy(metric)"
   ]
  },
  {
   "cell_type": "markdown",
   "metadata": {},
   "source": [
    "Make predictions for testing data"
   ]
  },
  {
   "cell_type": "code",
   "execution_count": 23,
   "metadata": {},
   "outputs": [
    {
     "data": {
      "text/plain": [
       "array([[1.30374974e-06, 1.44635640e-11, 5.89324145e-07, 2.16785795e-03,\n",
       "        2.91075736e-07, 1.53585806e-05, 3.66264175e-13, 9.97417212e-01,\n",
       "        7.77811783e-06, 3.89699155e-04],\n",
       "       [1.37303316e-04, 4.60779887e-07, 9.97791886e-01, 4.09115455e-05,\n",
       "        7.08979791e-14, 4.10312699e-04, 1.61304802e-03, 4.38778525e-19,\n",
       "        6.20188848e-06, 2.01157768e-15],\n",
       "       [6.85159250e-07, 9.83948648e-01, 8.96688644e-03, 2.12742575e-03,\n",
       "        1.23003076e-04, 4.82822739e-04, 8.05603340e-04, 1.42096978e-04,\n",
       "        3.28919291e-03, 1.13664464e-04],\n",
       "       [9.99836564e-01, 2.93239655e-14, 3.32698146e-05, 2.63739798e-06,\n",
       "        1.16609451e-08, 4.48365972e-05, 5.73253928e-05, 1.51221241e-06,\n",
       "        1.39141775e-05, 9.91763864e-06],\n",
       "       [2.92125012e-04, 3.70211453e-08, 1.72179460e-03, 3.23799286e-05,\n",
       "        9.56022739e-01, 7.82844727e-05, 9.38165176e-04, 1.97409326e-03,\n",
       "        3.73412902e-03, 3.52062695e-02]], dtype=float32)"
      ]
     },
     "execution_count": 23,
     "metadata": {},
     "output_type": "execute_result"
    }
   ],
   "source": [
    "y_pred = model.predict(X_test)\n",
    "y_pred[:5]\n",
    "#the result is the probabilit of each lavel"
   ]
  },
  {
   "cell_type": "code",
   "execution_count": 25,
   "metadata": {},
   "outputs": [
    {
     "data": {
      "text/plain": [
       "array([7, 2, 1, 0, 4], dtype=int64)"
      ]
     },
     "execution_count": 25,
     "metadata": {},
     "output_type": "execute_result"
    }
   ],
   "source": [
    "#Aargmax is an operation that finds the argument that gives the maximum value from a target function\n",
    "y_pred = np.argmax(model.predict(X_test), axis=1)\n",
    "y_pred[:5]"
   ]
  },
  {
   "cell_type": "markdown",
   "metadata": {},
   "source": [
    "Visualize predictions"
   ]
  },
  {
   "cell_type": "code",
   "execution_count": 26,
   "metadata": {},
   "outputs": [
    {
     "data": {
      "image/png": "[encoded data removed]",
      "text/plain": [
       "<Figure size 648x648 with 9 Axes>"
      ]
     },
     "metadata": {},
     "output_type": "display_data"
    }
   ],
   "source": [
    "fig = plt.figure(figsize=(9, 9))\n",
    "col = 3\n",
    "row = 3\n",
    "for i in range(1, col*row +1):\n",
    "    pred = y_pred[i]\n",
    "    img = X_test_pre[i,:]\n",
    "    fig.add_subplot(row, col, i)\n",
    "    plt.title('Predicted label is {}'.format(pred))\n",
    "    plt.xticks([])\n",
    "    plt.yticks([])\n",
    "    plt.imshow(img, cmap='gray')\n",
    "plt.show()"
   ]
  }
 ],
 "metadata": {
  "kernelspec": {
   "display_name": "Python 3",
   "language": "python",
   "name": "python3"
  },
  "language_info": {
   "codemirror_mode": {
    "name": "ipython",
    "version": 3
   },
   "file_extension": ".py",
   "mimetype": "text/x-python",
   "name": "python",
   "nbconvert_exporter": "python",
   "pygments_lexer": "ipython3",
   "version": "3.8.8"
  }
 },
 "nbformat": 4,
 "nbformat_minor": 4
}
