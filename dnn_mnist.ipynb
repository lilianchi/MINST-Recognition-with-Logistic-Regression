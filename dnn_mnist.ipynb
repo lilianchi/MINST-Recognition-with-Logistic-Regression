{
 "cells": [
  {
   "cell_type": "markdown",
   "metadata": {},
   "source": [
    "# Dense Deep Neural Network: Handwritten Digit Recognition"
   ]
  },
  {
   "cell_type": "markdown",
   "metadata": {},
   "source": [
    "This notebook uses the classic [MNIST handwritten digit](http://yann.lecun.com/exdb/mnist/) dataset, which contains digit 0-9 images of size 28*28. We build a dense neural network to predict the class of digit."
   ]
  },
  {
   "cell_type": "code",
   "execution_count": 1,
   "metadata": {},
   "outputs": [],
   "source": [
    "import matplotlib.pyplot as plt\n",
    "import numpy as np\n",
    "import pandas as pd\n",
    "import time\n",
    "\n",
    "import tensorflow as tf\n",
    "from tensorflow import keras\n",
    "from tensorflow.keras import layers\n",
    "from tensorflow.keras.datasets import mnist"
   ]
  },
  {
   "cell_type": "markdown",
   "metadata": {},
   "source": [
    "## The MNIST dataset"
   ]
  },
  {
   "cell_type": "markdown",
   "metadata": {},
   "source": [
    "### Get the data\n",
    "MNIST dataset is provided by Keras directly. The following codes show how to load it. "
   ]
  },
  {
   "cell_type": "code",
   "execution_count": 2,
   "metadata": {},
   "outputs": [
    {
     "name": "stdout",
     "output_type": "stream",
     "text": [
      "Help on function load_data in module keras.datasets.mnist:\n",
      "\n",
      "load_data(path='mnist.npz')\n",
      "    Loads the MNIST dataset.\n",
      "    \n",
      "    This is a dataset of 60,000 28x28 grayscale images of the 10 digits,\n",
      "    along with a test set of 10,000 images.\n",
      "    More info can be found at the\n",
      "    [MNIST homepage](http://yann.lecun.com/exdb/mnist/).\n",
      "    \n",
      "    Args:\n",
      "      path: path where to cache the dataset locally\n",
      "        (relative to `~/.keras/datasets`).\n",
      "    \n",
      "    Returns:\n",
      "      Tuple of NumPy arrays: `(x_train, y_train), (x_test, y_test)`.\n",
      "    \n",
      "    **x_train**: uint8 NumPy array of grayscale image data with shapes\n",
      "      `(60000, 28, 28)`, containing the training data. Pixel values range\n",
      "      from 0 to 255.\n",
      "    \n",
      "    **y_train**: uint8 NumPy array of digit labels (integers in range 0-9)\n",
      "      with shape `(60000,)` for the training data.\n",
      "    \n",
      "    **x_test**: uint8 NumPy array of grayscale image data with shapes\n",
      "      (10000, 28, 28), containing the test data. Pixel values range\n",
      "      from 0 to 255.\n",
      "    \n",
      "    **y_test**: uint8 NumPy array of digit labels (integers in range 0-9)\n",
      "      with shape `(10000,)` for the test data.\n",
      "    \n",
      "    Example:\n",
      "    \n",
      "    ```python\n",
      "    (x_train, y_train), (x_test, y_test) = keras.datasets.mnist.load_data()\n",
      "    assert x_train.shape == (60000, 28, 28)\n",
      "    assert x_test.shape == (10000, 28, 28)\n",
      "    assert y_train.shape == (60000,)\n",
      "    assert y_test.shape == (10000,)\n",
      "    ```\n",
      "    \n",
      "    License:\n",
      "      Yann LeCun and Corinna Cortes hold the copyright of MNIST dataset,\n",
      "      which is a derivative work from original NIST datasets.\n",
      "      MNIST dataset is made available under the terms of the\n",
      "      [Creative Commons Attribution-Share Alike 3.0 license.](\n",
      "      https://creativecommons.org/licenses/by-sa/3.0/)\n",
      "\n"
     ]
    }
   ],
   "source": [
    "help(mnist.load_data)"
   ]
  },
  {
   "cell_type": "code",
   "execution_count": 2,
   "metadata": {
    "tags": []
   },
   "outputs": [],
   "source": [
    "# the data, shuffled and split between train and test sets \n",
    "(X_train_pre, y_train_pre), (X_test_pre, y_test_pre) = mnist.load_data()"
   ]
  },
  {
   "cell_type": "markdown",
   "metadata": {},
   "source": [
    "### Reshape and normalize the features"
   ]
  },
  {
   "cell_type": "code",
   "execution_count": 5,
   "metadata": {},
   "outputs": [
    {
     "name": "stdout",
     "output_type": "stream",
     "text": [
      "training data shape: (60000, 784)\n",
      "60000 train samples, 10000 test samples\n"
     ]
    }
   ],
   "source": [
    "input_dim = 784 # 28*28\n",
    "X_train = X_train_pre.reshape(X_train_pre.shape[0], input_dim) \n",
    "X_test = X_test_pre.reshape(X_test_pre.shape[0], input_dim) \n",
    "X_train = X_train.astype('float32') \n",
    "X_test = X_test.astype('float32') \n",
    "X_train /= 255. #normalize\n",
    "X_test /= 255. #normalize\n",
    "\n",
    "print('training data shape:', X_train.shape)\n",
    "print('{} train samples, {} test samples'.format(X_train.shape[0], X_test.shape[0]))"
   ]
  },
  {
   "cell_type": "markdown",
   "metadata": {},
   "source": [
    "### convert class vectors to binary class matrices\n",
    "convert class label to one-hot coding"
   ]
  },
  {
   "cell_type": "code",
   "execution_count": 7,
   "metadata": {},
   "outputs": [
    {
     "data": {
      "text/plain": [
       "array([[0., 0., 0., 0., 0., 1., 0., 0., 0., 0.],\n",
       "       [1., 0., 0., 0., 0., 0., 0., 0., 0., 0.],\n",
       "       [0., 0., 0., 0., 1., 0., 0., 0., 0., 0.],\n",
       "       [0., 1., 0., 0., 0., 0., 0., 0., 0., 0.],\n",
       "       [0., 0., 0., 0., 0., 0., 0., 0., 0., 1.]], dtype=float32)"
      ]
     },
     "execution_count": 7,
     "metadata": {},
     "output_type": "execute_result"
    }
   ],
   "source": [
    "num_classes = 10 # 0-9\n",
    "y_train = keras.utils.to_categorical(y_train_pre, num_classes)\n",
    "y_test = keras.utils.to_categorical(y_test_pre, num_classes)\n",
    "# the first 5 samples are 5,0,4,1,9\n",
    "y_train[:5,] "
   ]
  },
  {
   "cell_type": "code",
   "execution_count": 12,
   "metadata": {},
   "outputs": [
    {
     "name": "stdout",
     "output_type": "stream",
     "text": [
      "training data shape: (41667, 784)\n",
      "41667 train samples, 8333 validation samples, 10000 test samples\n",
      "(8333, 784) (41667, 784) (8333, 10) (41667, 10)\n"
     ]
    }
   ],
   "source": [
    "# split train, validation in train\n",
    "# Regularization: 1) Ridge/Lasso. 2) Droopout. 3) Early stopping\n",
    "# overparametrize: when #parameters >= #sample\n",
    "# input layer: 784\n",
    "#              (784+1)*512\n",
    "# first layer: 512\n",
    "#              (512+1)*128\n",
    "# second layer: 128\n",
    "#              (128+1)*10\n",
    "# output layer: 10\n",
    "\n",
    "validation_split = 0.166667\n",
    "index = np.random.permutation(X_train.shape[0]) #random\n",
    "\n",
    "train_idx = int(X_train.shape[0]*validation_split) #integer\n",
    "\n",
    "X_val, X_train = X_train[index[:train_idx]], X_train[index[train_idx:]] #get valid one after randomization\n",
    "y_val, y_train = y_train[index[:train_idx]], y_train[index[train_idx:]]\n",
    "\n",
    "print('training data shape:', X_train.shape)\n",
    "print('{} train samples, {} validation samples, {} test samples'\\\n",
    "      .format(X_train.shape[0], X_val.shape[0], X_test.shape[0]))\n",
    "      \n",
    "print(X_val.shape, X_train.shape, y_val.shape, y_train.shape)"
   ]
  },
  {
   "cell_type": "markdown",
   "metadata": {},
   "source": [
    "## The model"
   ]
  },
  {
   "cell_type": "markdown",
   "metadata": {},
   "source": [
    "### Build the model"
   ]
  },
  {
   "cell_type": "code",
   "execution_count": 13,
   "metadata": {},
   "outputs": [],
   "source": [
    "#from keras.layers import Dropout\n",
    "\n",
    "model = keras.Sequential()\n",
    "model.add(layers.Dense(512, activation='relu', input_shape=(784,))) #first hidden layer\n",
    "model.add(layers.Dense(128, activation='relu')) #second hidden layer\n",
    "model.add(layers.Dense(10, activation='softmax')) #output layer\n",
    "model.compile(loss='categorical_crossentropy',\n",
    "              optimizer=keras.optimizers.RMSprop(0.001),\n",
    "              metrics=['accuracy'])\n",
    "#change loss function (how the machine learn), metrics(use for evaluation) --> accuracy"
   ]
  },
  {
   "cell_type": "markdown",
   "metadata": {},
   "source": [
    "### Inspect the model\n",
    "\n",
    "Use the `.summary` method to print a simple description of the model"
   ]
  },
  {
   "cell_type": "code",
   "execution_count": 14,
   "metadata": {},
   "outputs": [
    {
     "name": "stdout",
     "output_type": "stream",
     "text": [
      "Model: \"sequential\"\n",
      "_________________________________________________________________\n",
      " Layer (type)                Output Shape              Param #   \n",
      "=================================================================\n",
      " dense (Dense)               (None, 512)               401920    \n",
      "                                                                 \n",
      " dense_1 (Dense)             (None, 128)               65664     \n",
      "                                                                 \n",
      " dense_2 (Dense)             (None, 10)                1290      \n",
      "                                                                 \n",
      "=================================================================\n",
      "Total params: 468,874\n",
      "Trainable params: 468,874\n",
      "Non-trainable params: 0\n",
      "_________________________________________________________________\n"
     ]
    }
   ],
   "source": [
    "model.summary()"
   ]
  },
  {
   "cell_type": "markdown",
   "metadata": {},
   "source": [
    "### Train the model"
   ]
  },
  {
   "cell_type": "code",
   "execution_count": 15,
   "metadata": {},
   "outputs": [
    {
     "name": "stdout",
     "output_type": "stream",
     "text": [
      "Epoch 1/20\n",
      "326/326 [==============================] - 7s 16ms/step - loss: 0.2826 - accuracy: 0.9140 - val_loss: 0.1324 - val_accuracy: 0.9609\n",
      "Epoch 2/20\n",
      "326/326 [==============================] - 5s 14ms/step - loss: 0.1077 - accuracy: 0.9670 - val_loss: 0.1012 - val_accuracy: 0.9718\n",
      "Epoch 3/20\n",
      "326/326 [==============================] - 5s 15ms/step - loss: 0.0672 - accuracy: 0.9786 - val_loss: 0.0841 - val_accuracy: 0.9740\n",
      "Epoch 4/20\n",
      "326/326 [==============================] - 5s 15ms/step - loss: 0.0462 - accuracy: 0.9854 - val_loss: 0.0963 - val_accuracy: 0.9728\n",
      "Epoch 5/20\n",
      "326/326 [==============================] - 5s 15ms/step - loss: 0.0338 - accuracy: 0.9889 - val_loss: 0.0796 - val_accuracy: 0.9806\n",
      "Epoch 6/20\n",
      "326/326 [==============================] - 5s 15ms/step - loss: 0.0252 - accuracy: 0.9919 - val_loss: 0.0949 - val_accuracy: 0.9767\n",
      "Epoch 7/20\n",
      "326/326 [==============================] - 5s 15ms/step - loss: 0.0176 - accuracy: 0.9946 - val_loss: 0.1070 - val_accuracy: 0.9729\n",
      "Epoch 8/20\n",
      "326/326 [==============================] - 5s 15ms/step - loss: 0.0147 - accuracy: 0.9952 - val_loss: 0.0963 - val_accuracy: 0.9802\n",
      "Epoch 9/20\n",
      "326/326 [==============================] - 5s 15ms/step - loss: 0.0109 - accuracy: 0.9968 - val_loss: 0.1402 - val_accuracy: 0.9747\n",
      "Epoch 10/20\n",
      "326/326 [==============================] - 5s 15ms/step - loss: 0.0088 - accuracy: 0.9972 - val_loss: 0.1256 - val_accuracy: 0.9784\n",
      "Epoch 11/20\n",
      "326/326 [==============================] - 5s 15ms/step - loss: 0.0075 - accuracy: 0.9976 - val_loss: 0.1195 - val_accuracy: 0.9784\n",
      "Epoch 12/20\n",
      "326/326 [==============================] - 5s 15ms/step - loss: 0.0059 - accuracy: 0.9979 - val_loss: 0.1168 - val_accuracy: 0.9807\n",
      "Epoch 13/20\n",
      "326/326 [==============================] - 5s 15ms/step - loss: 0.0059 - accuracy: 0.9983 - val_loss: 0.1308 - val_accuracy: 0.9796\n",
      "Epoch 14/20\n",
      "326/326 [==============================] - 5s 15ms/step - loss: 0.0045 - accuracy: 0.9982 - val_loss: 0.1384 - val_accuracy: 0.9789\n",
      "Epoch 15/20\n",
      "326/326 [==============================] - 5s 15ms/step - loss: 0.0038 - accuracy: 0.9986 - val_loss: 0.1314 - val_accuracy: 0.9806\n",
      "Epoch 16/20\n",
      "326/326 [==============================] - 5s 15ms/step - loss: 0.0036 - accuracy: 0.9988 - val_loss: 0.1553 - val_accuracy: 0.9783\n",
      "Epoch 17/20\n",
      "326/326 [==============================] - 5s 15ms/step - loss: 0.0034 - accuracy: 0.9990 - val_loss: 0.1479 - val_accuracy: 0.9806\n",
      "Epoch 18/20\n",
      "326/326 [==============================] - 5s 15ms/step - loss: 0.0028 - accuracy: 0.9991 - val_loss: 0.1455 - val_accuracy: 0.9802\n",
      "Epoch 19/20\n",
      "326/326 [==============================] - 5s 15ms/step - loss: 0.0039 - accuracy: 0.9989 - val_loss: 0.1769 - val_accuracy: 0.9776\n",
      "Epoch 20/20\n",
      "326/326 [==============================] - 5s 15ms/step - loss: 0.0036 - accuracy: 0.9987 - val_loss: 0.1696 - val_accuracy: 0.9790\n"
     ]
    }
   ],
   "source": [
    "EPOCHS = 20\n",
    "\n",
    "history = model.fit(X_train, y_train,\n",
    "                    batch_size=128, epochs=EPOCHS,\n",
    "                    validation_data=(X_val, y_val))\n",
    "\n",
    "# batch size = 128, sample size n = 5000\n",
    "# run 50000/128次iterations\n",
    "# *上EPOCHS = 20*50000/128 iterations\n",
    "# the larger the model is, the more batch size we should set\n",
    "\n",
    "# result: training loss is getting smaller，accuracy is getting higher；but not the ablosute case in validation loss，so does accuracy\n",
    "# compared to epoch in logistics model, the loss drops significantly in  the second DNN --> good thing"
   ]
  },
  {
   "cell_type": "code",
   "execution_count": 16,
   "metadata": {},
   "outputs": [
    {
     "data": {
      "text/html": [
       "<div>\n",
       "<style scoped>\n",
       "    .dataframe tbody tr th:only-of-type {\n",
       "        vertical-align: middle;\n",
       "    }\n",
       "\n",
       "    .dataframe tbody tr th {\n",
       "        vertical-align: top;\n",
       "    }\n",
       "\n",
       "    .dataframe thead th {\n",
       "        text-align: right;\n",
       "    }\n",
       "</style>\n",
       "<table border=\"1\" class=\"dataframe\">\n",
       "  <thead>\n",
       "    <tr style=\"text-align: right;\">\n",
       "      <th></th>\n",
       "      <th>loss</th>\n",
       "      <th>accuracy</th>\n",
       "      <th>val_loss</th>\n",
       "      <th>val_accuracy</th>\n",
       "      <th>epoch</th>\n",
       "    </tr>\n",
       "  </thead>\n",
       "  <tbody>\n",
       "    <tr>\n",
       "      <th>15</th>\n",
       "      <td>0.003606</td>\n",
       "      <td>0.998824</td>\n",
       "      <td>0.155319</td>\n",
       "      <td>0.978279</td>\n",
       "      <td>15</td>\n",
       "    </tr>\n",
       "    <tr>\n",
       "      <th>16</th>\n",
       "      <td>0.003446</td>\n",
       "      <td>0.998968</td>\n",
       "      <td>0.147858</td>\n",
       "      <td>0.980559</td>\n",
       "      <td>16</td>\n",
       "    </tr>\n",
       "    <tr>\n",
       "      <th>17</th>\n",
       "      <td>0.002812</td>\n",
       "      <td>0.999064</td>\n",
       "      <td>0.145482</td>\n",
       "      <td>0.980199</td>\n",
       "      <td>17</td>\n",
       "    </tr>\n",
       "    <tr>\n",
       "      <th>18</th>\n",
       "      <td>0.003941</td>\n",
       "      <td>0.998896</td>\n",
       "      <td>0.176917</td>\n",
       "      <td>0.977559</td>\n",
       "      <td>18</td>\n",
       "    </tr>\n",
       "    <tr>\n",
       "      <th>19</th>\n",
       "      <td>0.003643</td>\n",
       "      <td>0.998656</td>\n",
       "      <td>0.169613</td>\n",
       "      <td>0.978999</td>\n",
       "      <td>19</td>\n",
       "    </tr>\n",
       "  </tbody>\n",
       "</table>\n",
       "</div>"
      ],
      "text/plain": [
       "        loss  accuracy  val_loss  val_accuracy  epoch\n",
       "15  0.003606  0.998824  0.155319      0.978279     15\n",
       "16  0.003446  0.998968  0.147858      0.980559     16\n",
       "17  0.002812  0.999064  0.145482      0.980199     17\n",
       "18  0.003941  0.998896  0.176917      0.977559     18\n",
       "19  0.003643  0.998656  0.169613      0.978999     19"
      ]
     },
     "metadata": {},
     "output_type": "display_data"
    },
    {
     "data": {
      "image/png": "[encoded data removed]",
      "text/plain": [
       "<Figure size 432x288 with 1 Axes>"
      ]
     },
     "metadata": {
      "needs_background": "light"
     },
     "output_type": "display_data"
    }
   ],
   "source": [
    "def plot_history(history):\n",
    "    hist = pd.DataFrame(history.history)\n",
    "    hist['epoch'] = history.epoch\n",
    "    display(hist.tail())\n",
    "\n",
    "    plt.figure()\n",
    "    plt.xlabel('Epoch')\n",
    "    plt.ylabel('Accuracy')\n",
    "    plt.plot(hist['epoch'], hist['accuracy'], label=\"train\")\n",
    "    plt.plot(hist['epoch'], hist['val_accuracy'], label=\"val\")\n",
    "    plt.legend()\n",
    "    plt.show()\n",
    "\n",
    "plot_history(history)"
   ]
  },
  {
   "cell_type": "markdown",
   "metadata": {},
   "source": [
    "### Make predictions"
   ]
  },
  {
   "cell_type": "markdown",
   "metadata": {},
   "source": [
    "Calculate the classification accuracy for testing set"
   ]
  },
  {
   "cell_type": "code",
   "execution_count": 17,
   "metadata": {},
   "outputs": [
    {
     "name": "stdout",
     "output_type": "stream",
     "text": [
      "Testing set accuracy: 97.86%\n"
     ]
    }
   ],
   "source": [
    "_, acc = model.evaluate(X_test, y_test, verbose=0)\n",
    "\n",
    "print(\"Testing set accuracy: {:.2f}%\".format(acc*100))\n",
    "\n",
    "#assignment1 goal: change activation function to beat this accuracy"
   ]
  },
  {
   "cell_type": "markdown",
   "metadata": {},
   "source": [
    "Make predictions for testing data"
   ]
  },
  {
   "cell_type": "code",
   "execution_count": 18,
   "metadata": {},
   "outputs": [
    {
     "data": {
      "text/plain": [
       "array([7, 2, 1, 0, 4], dtype=int64)"
      ]
     },
     "execution_count": 18,
     "metadata": {},
     "output_type": "execute_result"
    }
   ],
   "source": [
    "y_pred = np.argmax(model.predict(X_test), axis=-1)\n",
    "y_pred[:5]"
   ]
  },
  {
   "cell_type": "markdown",
   "metadata": {},
   "source": [
    "Visualize predictions"
   ]
  },
  {
   "cell_type": "code",
   "execution_count": 21,
   "metadata": {},
   "outputs": [
    {
     "data": {
      "image/png": "[encoded data removed]",
      "text/plain": [
       "<Figure size 648x648 with 9 Axes>"
      ]
     },
     "metadata": {},
     "output_type": "display_data"
    }
   ],
   "source": [
    "fig = plt.figure(figsize=(9, 9))\n",
    "col = 3\n",
    "row = 3\n",
    "for i in range(1, col*row +1):\n",
    "    pred = y_pred[i]\n",
    "    img = X_test_pre[i,:]\n",
    "    fig.add_subplot(row, col, i)\n",
    "    plt.title('Predicted label is {}'.format(pred))\n",
    "    plt.xticks([])\n",
    "    plt.yticks([])\n",
    "    plt.imshow(img, cmap='gray')\n",
    "plt.show()"
   ]
  },
  {
   "cell_type": "markdown",
   "metadata": {},
   "source": [
    "## Early Stopping\n",
    "do not need to wait for the completion of EPOCHS = 20\n",
    "* Early stopping is a method that allows you to specify an arbitrary large number of training epochs and stop training once the model performance stops improving on a hold out validation dataset."
   ]
  },
  {
   "cell_type": "code",
   "execution_count": 22,
   "metadata": {},
   "outputs": [
    {
     "name": "stdout",
     "output_type": "stream",
     "text": [
      "Epoch 1/20\n",
      "326/326 [==============================] - 5s 15ms/step - loss: 0.0029 - accuracy: 0.9990 - val_loss: 0.1644 - val_accuracy: 0.9804\n",
      "Epoch 2/20\n",
      "326/326 [==============================] - 5s 15ms/step - loss: 0.0023 - accuracy: 0.9994 - val_loss: 0.1862 - val_accuracy: 0.9810\n",
      "Epoch 3/20\n",
      "326/326 [==============================] - 5s 14ms/step - loss: 0.0032 - accuracy: 0.9993 - val_loss: 0.1601 - val_accuracy: 0.9818\n",
      "Epoch 4/20\n",
      "326/326 [==============================] - 5s 14ms/step - loss: 0.0019 - accuracy: 0.9994 - val_loss: 0.1842 - val_accuracy: 0.9789\n",
      "Epoch 5/20\n",
      "326/326 [==============================] - 5s 14ms/step - loss: 0.0023 - accuracy: 0.9993 - val_loss: 0.1655 - val_accuracy: 0.9803\n"
     ]
    }
   ],
   "source": [
    "EPOCHS = 20\n",
    "\n",
    "# training loss keeps decreading\n",
    "# valifation loss decrease and then increase, so we want to stop at the minimum of validation loss => early stopping\n",
    "# small batch size --> larger patience, there is local minimum and gloab minimum in validation loss\n",
    "\n",
    "early_stop = keras.callbacks.EarlyStopping(monitor='val_loss', patience=2)\n",
    "# monitor: metric\n",
    "# patience=0: is the number of epochs with no improvement.\n",
    "#             The value 0 means the training is terminated as soon as the performance measure gets worse from one epoch to the next.\n",
    "# patience=2, try 3 times\n",
    "# stop at 5th Epoch\n",
    "#\n",
    "\n",
    "history = model.fit(X_train, y_train,\n",
    "                    batch_size=128, epochs=EPOCHS,\n",
    "                    validation_data=(X_val, y_val),\n",
    "                    callbacks=[early_stop])"
   ]
  },
  {
   "cell_type": "code",
   "execution_count": 23,
   "metadata": {},
   "outputs": [
    {
     "name": "stdout",
     "output_type": "stream",
     "text": [
      "Testing set accuracy: 97.84%\n"
     ]
    }
   ],
   "source": [
    "_, acc = model.evaluate(X_test, y_test, verbose=0)\n",
    "\n",
    "print(\"Testing set accuracy: {:.2f}%\".format(acc*100))"
   ]
  }
 ],
 "metadata": {
  "kernelspec": {
   "display_name": "Python 3",
   "language": "python",
   "name": "python3"
  },
  "language_info": {
   "codemirror_mode": {
    "name": "ipython",
    "version": 3
   },
   "file_extension": ".py",
   "mimetype": "text/x-python",
   "name": "python",
   "nbconvert_exporter": "python",
   "pygments_lexer": "ipython3",
   "version": "3.8.8"
  }
 },
 "nbformat": 4,
 "nbformat_minor": 4
}
